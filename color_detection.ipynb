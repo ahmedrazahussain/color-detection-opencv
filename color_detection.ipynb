{
 "cells": [
  {
   "cell_type": "code",
   "execution_count": 7,
   "id": "179662d4-f7da-4173-b97a-a8fc8055bdb8",
   "metadata": {},
   "outputs": [
    {
     "name": "stdout",
     "output_type": "stream",
     "text": [
      "Click on the image to select a color\n",
      "Press 'z' to exit\n"
     ]
    }
   ],
   "source": [
    "import cv2 as cv\n",
    "import numpy as np\n",
    "\n",
    "img = cv.imread('cball.webp')\n",
    "img = cv.resize(img, (900,600))\n",
    "\n",
    "hsv = cv.cvtColor(img, cv.COLOR_BGR2HSV)\n",
    "\n",
    "low = np.array([0,0,0])\n",
    "upr = np.array([179, 255,255])\n",
    "def mouse_event(event, x, y, flags, par):\n",
    "    global low, upr\n",
    "    if event == cv.EVENT_LBUTTONDOWN:\n",
    "        pixel = hsv[y,x]\n",
    "        h,s,v = pixel\n",
    "        low = np.array([max(int(h)-10, 0), max(int(s)-50,0), max(int(v)-50,0)], np.uint8)\n",
    "        upr = np.array([min(int(h)+10,179), min(int(s)+50,255), min(int(v)+50,255)], np.uint8)\n",
    "\n",
    "cv.namedWindow('image')\n",
    "cv.setMouseCallback('image', mouse_event)\n",
    "\n",
    "print(\"Click on the image to select a color\\nPress 'z' to exit\")\n",
    "\n",
    "while True:\n",
    "    mask = cv.inRange(hsv, low, upr)\n",
    "    res = cv.bitwise_and(img, img, mask = mask)\n",
    "\n",
    "    cv.imshow('image', img)\n",
    "    cv.imshow('res', res)\n",
    "    cv.imshow('mask', mask)\n",
    "\n",
    "    if cv.waitKey(2) & 0xff == ord('z'):\n",
    "        break\n",
    "    \n",
    "\n",
    "cv.destroyAllWindows()"
   ]
  },
  {
   "cell_type": "code",
   "execution_count": null,
   "id": "8f03a11f-704e-4f21-9d72-0e924fa4b981",
   "metadata": {},
   "outputs": [],
   "source": []
  }
 ],
 "metadata": {
  "kernelspec": {
   "display_name": "Python 3 (ipykernel)",
   "language": "python",
   "name": "python3"
  },
  "language_info": {
   "codemirror_mode": {
    "name": "ipython",
    "version": 3
   },
   "file_extension": ".py",
   "mimetype": "text/x-python",
   "name": "python",
   "nbconvert_exporter": "python",
   "pygments_lexer": "ipython3",
   "version": "3.12.9"
  }
 },
 "nbformat": 4,
 "nbformat_minor": 5
}
